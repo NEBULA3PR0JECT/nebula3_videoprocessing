{
 "cells": [
  {
   "cell_type": "code",
   "execution_count": 1,
   "id": "933bcc02-604f-4ac6-b298-d79a05104033",
   "metadata": {},
   "outputs": [],
   "source": [
    "import sys, os\n",
    "sys.path.append(os.getcwd() + '/videoprocessing')\n",
    "from videoprocessing.clip_video_utils import ClipVideoUtils\n",
    "from videoprocessing.scene_detector_api import NEBULA_SCENE_DETECTOR"
   ]
  },
  {
   "cell_type": "code",
   "execution_count": 2,
   "id": "6e3e25cf-f4ad-4ea1-a8a0-49b180e72df8",
   "metadata": {},
   "outputs": [],
   "source": [
    "base_dir = '/datasets/msrvtt/shared_datasets/MSRVTT_ret/videos'\n",
    "video_names = os.listdir(base_dir)\n",
    "video_utils = ClipVideoUtils()\n",
    "scene_detector = NEBULA_SCENE_DETECTOR(use_ClipCap=False, use_OFA=False, use_nebula3=False)"
   ]
  },
  {
   "cell_type": "code",
   "execution_count": null,
   "id": "acee9c72-c7fc-480b-b115-3506bb735398",
   "metadata": {},
   "outputs": [
    {
     "name": "stderr",
     "output_type": "stream",
     "text": [
      "2022-06-17 18:47:58,578 - Loaded 1 video, framerate: 25.000 FPS, resolution: 320 x 240\n"
     ]
    },
    {
     "name": "stdout",
     "output_type": "stream",
     "text": [
      "DEBUG:  /datasets/msrvtt/shared_datasets/MSRVTT_ret/videos/video0.mp4\n",
      "Scenes elements:  [[0, 52], [52, 175], [175, 286], [286, 300]]\n",
      "Video  video0.mp4  Scene  0 - 52  Frame  [31]\n",
      "Video  video0.mp4  Scene  52 - 175  Frame  [104]\n",
      "Video  video0.mp4  Scene  175 - 286  Frame  [275]\n",
      "Video  video0.mp4  Scene  286 - 300  Frame  [291]\n"
     ]
    },
    {
     "name": "stderr",
     "output_type": "stream",
     "text": [
      "2022-06-17 18:53:18,796 - Loaded 1 video, framerate: 25.000 FPS, resolution: 320 x 240\n"
     ]
    },
    {
     "name": "stdout",
     "output_type": "stream",
     "text": [
      "Video MS video0.mp4  SceneLess   [274, 103, 30]\n",
      "DEBUG:  /datasets/msrvtt/shared_datasets/MSRVTT_ret/videos/video1.mp4\n",
      "Scenes elements:  [[0, 132], [132, 252], [252, 400], [400, 485], [485, 550]]\n",
      "Video  video1.mp4  Scene  0 - 132  Frame  [28, 4]\n",
      "Video  video1.mp4  Scene  132 - 252  Frame  [204, 250]\n",
      "Video  video1.mp4  Scene  252 - 400  Frame  [326]\n",
      "Video  video1.mp4  Scene  400 - 485  Frame  [452]\n",
      "Video  video1.mp4  Scene  485 - 550  Frame  [520]\n",
      "Video MS video1.mp4  SceneLess   [354, 27, 203, 451, 519, 3]\n",
      "DEBUG:  /datasets/msrvtt/shared_datasets/MSRVTT_ret/videos/video10.mp4\n"
     ]
    },
    {
     "name": "stderr",
     "output_type": "stream",
     "text": [
      "2022-06-17 19:03:04,198 - Loaded 1 video, framerate: 25.000 FPS, resolution: 320 x 240\n"
     ]
    },
    {
     "name": "stdout",
     "output_type": "stream",
     "text": [
      "Scenes elements:  []\n"
     ]
    }
   ],
   "source": [
    "for video in video_names:\n",
    "    scene_elements = scene_detector.detect_scene_elements(os.path.join(base_dir, video))\n",
    "    for idx_scene_element, scene_element in enumerate(scene_elements):\n",
    "        if scene_element[1] - scene_element[0] < 4:\n",
    "            continue\n",
    "        chosen_mdf, ret_img = scene_detector.video_utils.choose_frames_with_meanshift(os.path.join(base_dir, video), \n",
    "                            scene_element[0], scene_element[1])\n",
    "        print('Video ', video, ' Scene ', scene_element[0], '-', scene_element[1], ' Frame ', chosen_mdf)\n",
    "    chosen_mdf, ret_img = scene_detector.video_utils.choose_frames_with_meanshift(os.path.join(base_dir, video), -1, 1000000000)\n",
    "    print('Video MS', video, ' SceneLess  ', chosen_mdf)"
   ]
  },
  {
   "cell_type": "code",
   "execution_count": null,
   "id": "e57a2652-462f-448c-b6c7-24dd509ae130",
   "metadata": {},
   "outputs": [],
   "source": []
  },
  {
   "cell_type": "code",
   "execution_count": null,
   "id": "66052bde-8863-4ff9-ac7d-ebc206a189c1",
   "metadata": {},
   "outputs": [],
   "source": []
  },
  {
   "cell_type": "code",
   "execution_count": null,
   "id": "860f172c-744b-4347-95a2-df41ffc4e815",
   "metadata": {},
   "outputs": [],
   "source": []
  },
  {
   "cell_type": "code",
   "execution_count": null,
   "id": "bc86c53f-a9a0-4a0d-8ee4-23be25f6d2f8",
   "metadata": {},
   "outputs": [],
   "source": []
  },
  {
   "cell_type": "code",
   "execution_count": null,
   "id": "0a1dd86a-f232-4870-864d-52cd30575534",
   "metadata": {},
   "outputs": [],
   "source": []
  },
  {
   "cell_type": "code",
   "execution_count": null,
   "id": "90e9d55f-4e4b-418b-9e9c-8b7242a17e13",
   "metadata": {},
   "outputs": [],
   "source": []
  },
  {
   "cell_type": "code",
   "execution_count": null,
   "id": "d8d57674-3499-431a-8b1b-55ed257a43e1",
   "metadata": {},
   "outputs": [],
   "source": []
  },
  {
   "cell_type": "code",
   "execution_count": null,
   "id": "5c8e6b8c-3f88-462a-8897-06ece4f8cfcc",
   "metadata": {},
   "outputs": [],
   "source": []
  },
  {
   "cell_type": "code",
   "execution_count": null,
   "id": "d8e1d763-3a1d-45fe-bada-a628c37c461d",
   "metadata": {},
   "outputs": [],
   "source": []
  }
 ],
 "metadata": {
  "kernelspec": {
   "display_name": "Python 3 (ipykernel)",
   "language": "python",
   "name": "python3"
  },
  "language_info": {
   "codemirror_mode": {
    "name": "ipython",
    "version": 3
   },
   "file_extension": ".py",
   "mimetype": "text/x-python",
   "name": "python",
   "nbconvert_exporter": "python",
   "pygments_lexer": "ipython3",
   "version": "3.10.4"
  }
 },
 "nbformat": 4,
 "nbformat_minor": 5
}
